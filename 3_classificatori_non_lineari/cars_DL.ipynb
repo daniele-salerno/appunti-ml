{
 "cells": [
  {
   "cell_type": "code",
   "execution_count": 42,
   "metadata": {},
   "outputs": [],
   "source": [
    "#!pip install pandas\n",
    "#!pip install matplotlib\n",
    "#!pip install sklearn"
   ]
  },
  {
   "cell_type": "code",
   "execution_count": 41,
   "metadata": {},
   "outputs": [
    {
     "name": "stdout",
     "output_type": "stream",
     "text": [
      "GPU: %s [PhysicalDevice(name='/physical_device:GPU:0', device_type='GPU')]\n"
     ]
    }
   ],
   "source": [
    "import tensorflow as tf\n",
    "gpus = tf.config.list_physical_devices('GPU') \n",
    "\n",
    "if len(gpus)==0:\n",
    "    print(\"no gpu\")\n",
    "else:\n",
    "    print(\"GPU: %s\", gpus)"
   ]
  },
  {
   "cell_type": "code",
   "execution_count": 5,
   "metadata": {},
   "outputs": [
    {
     "name": "stdout",
     "output_type": "stream",
     "text": [
      "Raw data has 3552912 rows, and 16 columns\n"
     ]
    },
    {
     "data": {
      "text/html": [
       "<div>\n",
       "<style scoped>\n",
       "    .dataframe tbody tr th:only-of-type {\n",
       "        vertical-align: middle;\n",
       "    }\n",
       "\n",
       "    .dataframe tbody tr th {\n",
       "        vertical-align: top;\n",
       "    }\n",
       "\n",
       "    .dataframe thead th {\n",
       "        text-align: right;\n",
       "    }\n",
       "</style>\n",
       "<table border=\"1\" class=\"dataframe\">\n",
       "  <thead>\n",
       "    <tr style=\"text-align: right;\">\n",
       "      <th></th>\n",
       "      <th>maker</th>\n",
       "      <th>model</th>\n",
       "      <th>mileage</th>\n",
       "      <th>manufacture_year</th>\n",
       "      <th>engine_displacement</th>\n",
       "      <th>engine_power</th>\n",
       "      <th>body_type</th>\n",
       "      <th>color_slug</th>\n",
       "      <th>stk_year</th>\n",
       "      <th>transmission</th>\n",
       "      <th>door_count</th>\n",
       "      <th>seat_count</th>\n",
       "      <th>fuel_type</th>\n",
       "      <th>date_created</th>\n",
       "      <th>date_last_seen</th>\n",
       "      <th>price_eur</th>\n",
       "    </tr>\n",
       "  </thead>\n",
       "  <tbody>\n",
       "    <tr>\n",
       "      <th>0</th>\n",
       "      <td>ford</td>\n",
       "      <td>galaxy</td>\n",
       "      <td>151000.0</td>\n",
       "      <td>2011.0</td>\n",
       "      <td>2000.0</td>\n",
       "      <td>103.0</td>\n",
       "      <td>NaN</td>\n",
       "      <td>NaN</td>\n",
       "      <td>None</td>\n",
       "      <td>man</td>\n",
       "      <td>5</td>\n",
       "      <td>7</td>\n",
       "      <td>diesel</td>\n",
       "      <td>2015-11-14 18:10:06.838319+00</td>\n",
       "      <td>2016-01-27 20:40:15.46361+00</td>\n",
       "      <td>10584.75</td>\n",
       "    </tr>\n",
       "    <tr>\n",
       "      <th>1</th>\n",
       "      <td>skoda</td>\n",
       "      <td>octavia</td>\n",
       "      <td>143476.0</td>\n",
       "      <td>2012.0</td>\n",
       "      <td>2000.0</td>\n",
       "      <td>81.0</td>\n",
       "      <td>NaN</td>\n",
       "      <td>NaN</td>\n",
       "      <td>None</td>\n",
       "      <td>man</td>\n",
       "      <td>5</td>\n",
       "      <td>5</td>\n",
       "      <td>diesel</td>\n",
       "      <td>2015-11-14 18:10:06.853411+00</td>\n",
       "      <td>2016-01-27 20:40:15.46361+00</td>\n",
       "      <td>8882.31</td>\n",
       "    </tr>\n",
       "    <tr>\n",
       "      <th>2</th>\n",
       "      <td>bmw</td>\n",
       "      <td>NaN</td>\n",
       "      <td>97676.0</td>\n",
       "      <td>2010.0</td>\n",
       "      <td>1995.0</td>\n",
       "      <td>85.0</td>\n",
       "      <td>NaN</td>\n",
       "      <td>NaN</td>\n",
       "      <td>None</td>\n",
       "      <td>man</td>\n",
       "      <td>5</td>\n",
       "      <td>5</td>\n",
       "      <td>diesel</td>\n",
       "      <td>2015-11-14 18:10:06.861792+00</td>\n",
       "      <td>2016-01-27 20:40:15.46361+00</td>\n",
       "      <td>12065.06</td>\n",
       "    </tr>\n",
       "    <tr>\n",
       "      <th>3</th>\n",
       "      <td>skoda</td>\n",
       "      <td>fabia</td>\n",
       "      <td>111970.0</td>\n",
       "      <td>2004.0</td>\n",
       "      <td>1200.0</td>\n",
       "      <td>47.0</td>\n",
       "      <td>NaN</td>\n",
       "      <td>NaN</td>\n",
       "      <td>None</td>\n",
       "      <td>man</td>\n",
       "      <td>5</td>\n",
       "      <td>5</td>\n",
       "      <td>gasoline</td>\n",
       "      <td>2015-11-14 18:10:06.872313+00</td>\n",
       "      <td>2016-01-27 20:40:15.46361+00</td>\n",
       "      <td>2960.77</td>\n",
       "    </tr>\n",
       "    <tr>\n",
       "      <th>4</th>\n",
       "      <td>skoda</td>\n",
       "      <td>fabia</td>\n",
       "      <td>128886.0</td>\n",
       "      <td>2004.0</td>\n",
       "      <td>1200.0</td>\n",
       "      <td>47.0</td>\n",
       "      <td>NaN</td>\n",
       "      <td>NaN</td>\n",
       "      <td>None</td>\n",
       "      <td>man</td>\n",
       "      <td>5</td>\n",
       "      <td>5</td>\n",
       "      <td>gasoline</td>\n",
       "      <td>2015-11-14 18:10:06.880335+00</td>\n",
       "      <td>2016-01-27 20:40:15.46361+00</td>\n",
       "      <td>2738.71</td>\n",
       "    </tr>\n",
       "  </tbody>\n",
       "</table>\n",
       "</div>"
      ],
      "text/plain": [
       "   maker    model   mileage  manufacture_year  engine_displacement  \\\n",
       "0   ford   galaxy  151000.0            2011.0               2000.0   \n",
       "1  skoda  octavia  143476.0            2012.0               2000.0   \n",
       "2    bmw      NaN   97676.0            2010.0               1995.0   \n",
       "3  skoda    fabia  111970.0            2004.0               1200.0   \n",
       "4  skoda    fabia  128886.0            2004.0               1200.0   \n",
       "\n",
       "   engine_power body_type color_slug stk_year transmission door_count  \\\n",
       "0         103.0       NaN        NaN     None          man          5   \n",
       "1          81.0       NaN        NaN     None          man          5   \n",
       "2          85.0       NaN        NaN     None          man          5   \n",
       "3          47.0       NaN        NaN     None          man          5   \n",
       "4          47.0       NaN        NaN     None          man          5   \n",
       "\n",
       "  seat_count fuel_type                   date_created  \\\n",
       "0          7    diesel  2015-11-14 18:10:06.838319+00   \n",
       "1          5    diesel  2015-11-14 18:10:06.853411+00   \n",
       "2          5    diesel  2015-11-14 18:10:06.861792+00   \n",
       "3          5  gasoline  2015-11-14 18:10:06.872313+00   \n",
       "4          5  gasoline  2015-11-14 18:10:06.880335+00   \n",
       "\n",
       "                 date_last_seen  price_eur  \n",
       "0  2016-01-27 20:40:15.46361+00   10584.75  \n",
       "1  2016-01-27 20:40:15.46361+00    8882.31  \n",
       "2  2016-01-27 20:40:15.46361+00   12065.06  \n",
       "3  2016-01-27 20:40:15.46361+00    2960.77  \n",
       "4  2016-01-27 20:40:15.46361+00    2738.71  "
      ]
     },
     "execution_count": 5,
     "metadata": {},
     "output_type": "execute_result"
    }
   ],
   "source": [
    "import pandas as pd\n",
    "import numpy as np\n",
    "\n",
    "filename = \"cars.csv\"\n",
    "\n",
    "dtypes = {\n",
    "    \"maker\": str,\n",
    "    \"model\": str,\n",
    "    \"mileage\": float,\n",
    "    \"manufacture_year\": float,\n",
    "    \"engine_displacement\": float,\n",
    "    \"engine_power\": float,\n",
    "    \"body_type\": str,\n",
    "    \"color_slug\": str,\n",
    "    \"stk_year\": str,\n",
    "    \"transmission\": str,\n",
    "    \"door_count\": str,\n",
    "    \"seat_count\": str,\n",
    "    \"fuel_type\": str,\n",
    "    \"date_created\": str,\n",
    "    \"date_last_seen\": str,\n",
    "    \"price_eur\": float}\n",
    "\n",
    "df = pd.read_csv(filename, dtype=dtypes)\n",
    "raw_shape = df.shape\n",
    "print(f\"Raw data has {raw_shape[0]} rows, and {raw_shape[1]} columns\")\n",
    "df.head()"
   ]
  },
  {
   "cell_type": "code",
   "execution_count": 11,
   "metadata": {},
   "outputs": [],
   "source": [
    "import tensorflow.keras as keras\n",
    "import matplotlib.pyplot as plt\n",
    "from IPython.display import clear_output\n",
    "class PlotLosses(keras.callbacks.Callback):\n",
    "    def on_train_begin(self, logs={}):\n",
    "        self.i = 0\n",
    "        self.x = []\n",
    "        self.losses = []\n",
    "        self.val_losses = []\n",
    "        \n",
    "        self.fig = plt.figure()\n",
    "        \n",
    "        self.logs = []\n",
    "\n",
    "    def on_epoch_end(self, epoch, logs={}):\n",
    "        \n",
    "        self.logs.append(logs)\n",
    "        self.x.append(self.i)\n",
    "        self.losses.append(logs.get('loss'))\n",
    "        self.val_losses.append(logs.get('val_loss'))\n",
    "        self.i += 1\n",
    "        \n",
    "        clear_output(wait=True)\n",
    "        plt.plot(self.x, self.losses, label=\"loss\")\n",
    "        plt.legend()\n",
    "        plt.show();\n",
    "        \n",
    "plot_losses = PlotLosses()"
   ]
  },
  {
   "cell_type": "code",
   "execution_count": 12,
   "metadata": {},
   "outputs": [
    {
     "name": "stdout",
     "output_type": "stream",
     "text": [
      "maker                   462087\n",
      "model                  1008763\n",
      "mileage                 174222\n",
      "manufacture_year        257363\n",
      "engine_displacement     513390\n",
      "engine_power            355237\n",
      "body_type              1122329\n",
      "color_slug             2801332\n",
      "stk_year               1133276\n",
      "transmission            354416\n",
      "door_count              214350\n",
      "seat_count              352762\n",
      "fuel_type              1493871\n",
      "date_created                 0\n",
      "date_last_seen               0\n",
      "price_eur                    0\n",
      "dtype: int64\n"
     ]
    }
   ],
   "source": [
    "df = df[df[\"price_eur\"] != 1295.34]\n",
    "df = df[df[\"price_eur\"] > 200.00]\n",
    "\n",
    "print(df.isna().sum())"
   ]
  },
  {
   "cell_type": "code",
   "execution_count": 13,
   "metadata": {},
   "outputs": [
    {
     "data": {
      "text/html": [
       "<div>\n",
       "<style scoped>\n",
       "    .dataframe tbody tr th:only-of-type {\n",
       "        vertical-align: middle;\n",
       "    }\n",
       "\n",
       "    .dataframe tbody tr th {\n",
       "        vertical-align: top;\n",
       "    }\n",
       "\n",
       "    .dataframe thead th {\n",
       "        text-align: right;\n",
       "    }\n",
       "</style>\n",
       "<table border=\"1\" class=\"dataframe\">\n",
       "  <thead>\n",
       "    <tr style=\"text-align: right;\">\n",
       "      <th></th>\n",
       "      <th>mileage</th>\n",
       "      <th>manufacture_year</th>\n",
       "      <th>engine_displacement</th>\n",
       "      <th>engine_power</th>\n",
       "      <th>price_eur</th>\n",
       "    </tr>\n",
       "  </thead>\n",
       "  <tbody>\n",
       "    <tr>\n",
       "      <th>count</th>\n",
       "      <td>2.662996e+06</td>\n",
       "      <td>2.579855e+06</td>\n",
       "      <td>2.323828e+06</td>\n",
       "      <td>2.481981e+06</td>\n",
       "      <td>2.837218e+06</td>\n",
       "    </tr>\n",
       "    <tr>\n",
       "      <th>mean</th>\n",
       "      <td>1.036281e+05</td>\n",
       "      <td>2.005297e+03</td>\n",
       "      <td>1.972952e+03</td>\n",
       "      <td>9.950409e+01</td>\n",
       "      <td>2.035618e+06</td>\n",
       "    </tr>\n",
       "    <tr>\n",
       "      <th>std</th>\n",
       "      <td>3.071016e+05</td>\n",
       "      <td>5.402212e+01</td>\n",
       "      <td>1.661741e+03</td>\n",
       "      <td>4.956741e+01</td>\n",
       "      <td>2.266753e+09</td>\n",
       "    </tr>\n",
       "    <tr>\n",
       "      <th>min</th>\n",
       "      <td>0.000000e+00</td>\n",
       "      <td>0.000000e+00</td>\n",
       "      <td>1.000000e+00</td>\n",
       "      <td>1.000000e+00</td>\n",
       "      <td>2.000400e+02</td>\n",
       "    </tr>\n",
       "    <tr>\n",
       "      <th>25%</th>\n",
       "      <td>1.586800e+04</td>\n",
       "      <td>2.005000e+03</td>\n",
       "      <td>1.398000e+03</td>\n",
       "      <td>6.900000e+01</td>\n",
       "      <td>4.480000e+03</td>\n",
       "    </tr>\n",
       "    <tr>\n",
       "      <th>50%</th>\n",
       "      <td>7.515000e+04</td>\n",
       "      <td>2.010000e+03</td>\n",
       "      <td>1.796000e+03</td>\n",
       "      <td>8.800000e+01</td>\n",
       "      <td>1.060000e+04</td>\n",
       "    </tr>\n",
       "    <tr>\n",
       "      <th>75%</th>\n",
       "      <td>1.450000e+05</td>\n",
       "      <td>2.014000e+03</td>\n",
       "      <td>1.997000e+03</td>\n",
       "      <td>1.150000e+02</td>\n",
       "      <td>1.881503e+04</td>\n",
       "    </tr>\n",
       "    <tr>\n",
       "      <th>max</th>\n",
       "      <td>9.999999e+06</td>\n",
       "      <td>2.016000e+03</td>\n",
       "      <td>3.200000e+04</td>\n",
       "      <td>1.504000e+03</td>\n",
       "      <td>2.706149e+12</td>\n",
       "    </tr>\n",
       "  </tbody>\n",
       "</table>\n",
       "</div>"
      ],
      "text/plain": [
       "            mileage  manufacture_year  engine_displacement  engine_power  \\\n",
       "count  2.662996e+06      2.579855e+06         2.323828e+06  2.481981e+06   \n",
       "mean   1.036281e+05      2.005297e+03         1.972952e+03  9.950409e+01   \n",
       "std    3.071016e+05      5.402212e+01         1.661741e+03  4.956741e+01   \n",
       "min    0.000000e+00      0.000000e+00         1.000000e+00  1.000000e+00   \n",
       "25%    1.586800e+04      2.005000e+03         1.398000e+03  6.900000e+01   \n",
       "50%    7.515000e+04      2.010000e+03         1.796000e+03  8.800000e+01   \n",
       "75%    1.450000e+05      2.014000e+03         1.997000e+03  1.150000e+02   \n",
       "max    9.999999e+06      2.016000e+03         3.200000e+04  1.504000e+03   \n",
       "\n",
       "          price_eur  \n",
       "count  2.837218e+06  \n",
       "mean   2.035618e+06  \n",
       "std    2.266753e+09  \n",
       "min    2.000400e+02  \n",
       "25%    4.480000e+03  \n",
       "50%    1.060000e+04  \n",
       "75%    1.881503e+04  \n",
       "max    2.706149e+12  "
      ]
     },
     "execution_count": 13,
     "metadata": {},
     "output_type": "execute_result"
    }
   ],
   "source": [
    "df.describe()"
   ]
  },
  {
   "cell_type": "code",
   "execution_count": 14,
   "metadata": {},
   "outputs": [],
   "source": [
    "df = df[df['fuel_type'].notna()]\n",
    "df = pd.get_dummies(df,columns=[\"fuel_type\"])\n",
    "\n",
    "df = df[df['transmission'].notna()]\n",
    "df = pd.get_dummies(df,columns=[\"transmission\"])\n",
    "\n",
    "#TODO: dopo la foresta\n",
    "year_of_scepticism = 1970\n",
    "average_years = df.loc[df[\"manufacture_year\"] >= year_of_scepticism].\\\n",
    "groupby([\"maker\", \"model\"])[\"manufacture_year\"].mean().round().rename(\"avg_manufacture_year\").reset_index()\n",
    "\n",
    "df = df.merge(average_years, how=\"left\", on=[\"maker\", \"model\"])\n",
    "df.loc[df[\"manufacture_year\"] < year_of_scepticism, \"manufacture_year\"] = np.nan\n",
    "df[\"manufacture_year\"] = df[\"manufacture_year\"].fillna(df[\"avg_manufacture_year\"])\n",
    "df = df[df['manufacture_year'].notna()]\n",
    "\n",
    "# df = df[df['seat_count'].notna()]\n",
    "# df = df[df['door_count'].notna()]\n",
    "\n",
    "features_to_fillna = [\"door_count\", \"seat_count\"]\n",
    "for feature in features_to_fillna:\n",
    "    df[feature] = pd.to_numeric(df[feature], errors=\"coerce\") # transform to numeric\n",
    "    replace_with = df[feature].median()                       # deduce the median\n",
    "    df[feature].fillna(replace_with,inplace=True)             # replace null\n",
    "\n",
    "df[\"seat_str\"] = np.select(\n",
    "    condlist=[\n",
    "        (df[\"seat_count\"] >= 0) & (df[\"seat_count\"] < 4),\n",
    "        (df[\"seat_count\"] >= 4) & (df[\"seat_count\"] < 6),\n",
    "        (df[\"seat_count\"] >= 6)],\n",
    "    choicelist=[\n",
    "        \"small\",\n",
    "        \"medium\",\n",
    "        \"large\",\n",
    "        ],\n",
    "    default=\"unknown\")\n",
    "df = pd.get_dummies(df,columns=[\"seat_str\"])\n",
    "df = df.drop([\"seat_count\"], axis=1)\n",
    "df = df.drop([\"door_count\"], axis=1)\n",
    "\n",
    "# Engine Power\n",
    "scepticism = 50\n",
    "average = df.loc[df[\"engine_power\"] >= scepticism].\\\n",
    "groupby([\"maker\", \"model\"])[\"engine_power\"].mean().round().rename(\"avg_engine_power\").reset_index()\n",
    "\n",
    "df = df.merge(average, how=\"left\", on=[\"maker\", \"model\"])\n",
    "df.loc[df[\"engine_power\"] < scepticism, \"engine_power\"] = np.nan\n",
    "df[\"engine_power\"] = df[\"engine_power\"].fillna(df[\"avg_engine_power\"])\n",
    "df = df[df['engine_power'].notna()]\n",
    "\n",
    "# Engine Disp\n",
    "scepticism = 600\n",
    "average = df.loc[df[\"engine_displacement\"] >= scepticism].\\\n",
    "groupby([\"maker\", \"model\"])[\"engine_displacement\"].mean().round().rename(\"avg_engine_displacement\").reset_index()\n",
    "\n",
    "df = df.merge(average, how=\"left\", on=[\"maker\", \"model\"])\n",
    "df.loc[df[\"engine_displacement\"] < scepticism, \"engine_displacement\"] = np.nan\n",
    "df[\"engine_displacement\"] = df[\"engine_displacement\"].fillna(df[\"engine_displacement\"])\n",
    "df = df[df['engine_displacement'].notna()]\n",
    "\n",
    "features_to_fillna = [\"mileage\" ] # , \"engine_displacement\",\"engine_power\"\n",
    "for feature in features_to_fillna:\n",
    "    replace_with = df[feature].mean() # deduce the mean\n",
    "    # replace_with = df[feature].median() # deduce the median \n",
    "    # replace_with = df[feature].mode() # deduce the mode\n",
    "    df[feature].fillna(replace_with,inplace=True)\n",
    "    \n",
    "# let's transform str dates in datetimes and creare a new feature with the duration of the ad\n",
    "df['date_created'] = pd.to_datetime(df['date_created']).dt.normalize()\n",
    "df['date_last_seen'] = pd.to_datetime(df['date_last_seen']).dt.normalize()\n",
    "df['ad_duration'] = (df['date_last_seen'] - df['date_created']).dt.days # new feature: how much last the ad\n",
    "\n",
    "features_to_drop = [\"model\", \"body_type\", \"color_slug\", \"stk_year\", \"avg_manufacture_year\", \"date_created\", \"date_last_seen\", \"avg_engine_power\", \"avg_engine_displacement\"]\n",
    "df = df.drop(features_to_drop, axis=\"columns\")"
   ]
  },
  {
   "cell_type": "code",
   "execution_count": 15,
   "metadata": {},
   "outputs": [],
   "source": [
    "# df.sort_values(by=['price_eur']).head(500)"
   ]
  },
  {
   "cell_type": "code",
   "execution_count": 16,
   "metadata": {
    "scrolled": true
   },
   "outputs": [
    {
     "name": "stdout",
     "output_type": "stream",
     "text": [
      "<class 'pandas.core.frame.DataFrame'>\n",
      "Int64Index: 654928 entries, 0 to 1011282\n",
      "Data columns (total 14 columns):\n",
      " #   Column               Non-Null Count   Dtype  \n",
      "---  ------               --------------   -----  \n",
      " 0   maker                654928 non-null  object \n",
      " 1   mileage              654928 non-null  float64\n",
      " 2   manufacture_year     654928 non-null  float64\n",
      " 3   engine_displacement  654928 non-null  float64\n",
      " 4   engine_power         654928 non-null  float64\n",
      " 5   price_eur            654928 non-null  float64\n",
      " 6   fuel_type_diesel     654928 non-null  uint8  \n",
      " 7   fuel_type_gasoline   654928 non-null  uint8  \n",
      " 8   transmission_auto    654928 non-null  uint8  \n",
      " 9   transmission_man     654928 non-null  uint8  \n",
      " 10  seat_str_large       654928 non-null  uint8  \n",
      " 11  seat_str_medium      654928 non-null  uint8  \n",
      " 12  seat_str_small       654928 non-null  uint8  \n",
      " 13  ad_duration          654928 non-null  int64  \n",
      "dtypes: float64(5), int64(1), object(1), uint8(7)\n",
      "memory usage: 44.3+ MB\n",
      "<class 'pandas.core.frame.DataFrame'>\n",
      "Int64Index: 212872 entries, 9 to 1011279\n",
      "Data columns (total 14 columns):\n",
      " #   Column               Non-Null Count   Dtype  \n",
      "---  ------               --------------   -----  \n",
      " 0   maker                0 non-null       object \n",
      " 1   mileage              212872 non-null  float64\n",
      " 2   manufacture_year     212872 non-null  float64\n",
      " 3   engine_displacement  212872 non-null  float64\n",
      " 4   engine_power         212872 non-null  float64\n",
      " 5   price_eur            212872 non-null  float64\n",
      " 6   fuel_type_diesel     212872 non-null  uint8  \n",
      " 7   fuel_type_gasoline   212872 non-null  uint8  \n",
      " 8   transmission_auto    212872 non-null  uint8  \n",
      " 9   transmission_man     212872 non-null  uint8  \n",
      " 10  seat_str_large       212872 non-null  uint8  \n",
      " 11  seat_str_medium      212872 non-null  uint8  \n",
      " 12  seat_str_small       212872 non-null  uint8  \n",
      " 13  ad_duration          212872 non-null  int64  \n",
      "dtypes: float64(5), int64(1), object(1), uint8(7)\n",
      "memory usage: 14.4+ MB\n"
     ]
    }
   ],
   "source": [
    "# features_to_drop = [\"date_created\", \"date_last_seen\"]\n",
    "# df = df.drop(features_to_drop, axis=\"columns\")\n",
    "\n",
    "df_with_maker = df[df['maker'].notna()]\n",
    "df_with_maker.info(null_counts=True)\n",
    "\n",
    "df_no_maker = df[df['maker'].isna()]\n",
    "df_no_maker.info(null_counts=True)"
   ]
  },
  {
   "cell_type": "code",
   "execution_count": 26,
   "metadata": {},
   "outputs": [],
   "source": [
    "from sklearn.model_selection import train_test_split\n",
    "from sklearn.preprocessing import LabelEncoder\n",
    "from sklearn.preprocessing import StandardScaler\n",
    "\n",
    "X = df_with_maker.drop(\"maker\", axis=1).values\n",
    "Y = df_with_maker[\"maker\"].values\n",
    "\n",
    "X_train, X_test, Y_train, Y_test = train_test_split(X, Y, test_size=0.1, random_state=0)\n",
    "\n",
    "le = LabelEncoder()\n",
    "Y_train = le.fit_transform(Y_train)\n",
    "Y_test = le.transform(Y_test)\n",
    "\n",
    "ss = StandardScaler()\n",
    "X_train = ss.fit_transform(X_train)\n",
    "X_test = ss.transform(X_test)"
   ]
  },
  {
   "cell_type": "code",
   "execution_count": 27,
   "metadata": {},
   "outputs": [
    {
     "name": "stdout",
     "output_type": "stream",
     "text": [
      "Numero totale di proprietà: 13\n",
      "Esempi di training: 589435\n",
      "Esempi di test: 65493\n",
      "Numero Marchi Automobilistici: 36\n"
     ]
    }
   ],
   "source": [
    "print(\"Numero totale di proprietà: \"+str(X_train.shape[1]))\n",
    "print(\"Esempi di training: \"+str(X_train.shape[0]))\n",
    "print(\"Esempi di test: \"+str(X_test.shape[0]))\n",
    "\n",
    "num_classes = df_with_maker['maker'].nunique()\n",
    "print(\"Numero Marchi Automobilistici:\", str(num_classes))\n",
    "\n",
    "from tensorflow.keras.utils import to_categorical\n",
    "\n",
    "y_train_dummy = to_categorical(Y_train, num_classes)\n",
    "y_test_dummy = to_categorical(Y_test, num_classes)\n",
    "\n",
    "from tensorflow.keras.models import Sequential\n",
    "from tensorflow.keras.layers import Dense\n",
    "\n",
    "model = Sequential()\n",
    "model.add(Dense(512, activation='relu', input_dim=X_train.shape[1]))\n",
    "model.add(Dense(256, activation='relu', input_dim=X_train.shape[1]))\n",
    "model.add(Dense(128, activation='relu', input_dim=X_train.shape[1]))\n",
    "model.add(Dense(num_classes, activation='softmax'))\n",
    "\n",
    "##ACCURACY: TRAIN=0.9577 TEST=0.9117"
   ]
  },
  {
   "cell_type": "code",
   "execution_count": 28,
   "metadata": {},
   "outputs": [
    {
     "name": "stdout",
     "output_type": "stream",
     "text": [
      "Model: \"sequential_1\"\n",
      "_________________________________________________________________\n",
      "Layer (type)                 Output Shape              Param #   \n",
      "=================================================================\n",
      "dense_4 (Dense)              (None, 512)               7168      \n",
      "_________________________________________________________________\n",
      "dense_5 (Dense)              (None, 256)               131328    \n",
      "_________________________________________________________________\n",
      "dense_6 (Dense)              (None, 128)               32896     \n",
      "_________________________________________________________________\n",
      "dense_7 (Dense)              (None, 36)                4644      \n",
      "=================================================================\n",
      "Total params: 176,036\n",
      "Trainable params: 176,036\n",
      "Non-trainable params: 0\n",
      "_________________________________________________________________\n"
     ]
    }
   ],
   "source": [
    "model.summary()"
   ]
  },
  {
   "cell_type": "code",
   "execution_count": 29,
   "metadata": {},
   "outputs": [],
   "source": [
    "model.compile(loss='categorical_crossentropy', optimizer='adam', metrics=['accuracy'])\n",
    "# model.compile(loss='categorical_crossentropy', optimizer='sgd', metrics=['accuracy'])"
   ]
  },
  {
   "cell_type": "code",
   "execution_count": 30,
   "metadata": {},
   "outputs": [
    {
     "data": {
      "image/png": "[encoded data removed]",
      "text/plain": [
       "<Figure size 432x288 with 1 Axes>"
      ]
     },
     "metadata": {
      "needs_background": "light"
     },
     "output_type": "display_data"
    },
    {
     "name": "stdout",
     "output_type": "stream",
     "text": [
      "\b\b\b\b\b\b\b\b\b\b\b\b\b\b\b\b\b\b\b\b\b\b\b\b\b\b\b\b\b\b\b\b\b\b\b\b\b\b\b\b\b\b\b\b\b\b\b\b\b\b\b\b\b\b\b\b\b\b\b\b\b\b\b\b\b\b\b\b\b\b\b\b\b\b\b\b\b\b\b\b\b\b\b\b\b\b\b\b\b\b\r",
      "589435/589435 [==============================] - 45s 77us/sample - loss: 0.6061 - accuracy: 0.8002\n"
     ]
    },
    {
     "data": {
      "text/plain": [
       "<tensorflow.python.keras.callbacks.History at 0x21bf58ed508>"
      ]
     },
     "execution_count": 30,
     "metadata": {},
     "output_type": "execute_result"
    }
   ],
   "source": [
    "model.fit(X_train, y_train_dummy, epochs=30, callbacks=[plot_losses])"
   ]
  },
  {
   "cell_type": "code",
   "execution_count": 35,
   "metadata": {},
   "outputs": [
    {
     "name": "stdout",
     "output_type": "stream",
     "text": [
      "65493/65493 [==============================] - 3s 51us/sample - loss: 0.6610 - accuracy: 0.7942\n"
     ]
    },
    {
     "data": {
      "text/plain": [
       "[0.6610290555724054, 0.7941612]"
      ]
     },
     "execution_count": 35,
     "metadata": {},
     "output_type": "execute_result"
    }
   ],
   "source": [
    "model.evaluate(X_test, y_test_dummy)"
   ]
  },
  {
   "cell_type": "code",
   "execution_count": 36,
   "metadata": {},
   "outputs": [
    {
     "name": "stdout",
     "output_type": "stream",
     "text": [
      "65493/65493 [==============================] - 3s 48us/sample - loss: 0.6610 - accuracy: 0.7942\n",
      "Loss sul test set: 0.6610\n",
      "Accuracy sul test set: 0.7942\n"
     ]
    }
   ],
   "source": [
    "loss, acc = model.evaluate(X_test, y_test_dummy)\n",
    "print(\"Loss sul test set: %.4f\" % loss)\n",
    "print(\"Accuracy sul test set: %.4f\" % acc)"
   ]
  },
  {
   "cell_type": "code",
   "execution_count": 150,
   "metadata": {},
   "outputs": [
    {
     "data": {
      "text/plain": [
       "array([30, 30, 30, ..., 27, 16, 16])"
      ]
     },
     "execution_count": 150,
     "metadata": {},
     "output_type": "execute_result"
    }
   ],
   "source": [
    "df_no_maker = df_no_maker.drop('maker', axis=1)\n",
    "prediction = model.predict_classes(df_no_maker)\n",
    "prediction"
   ]
  },
  {
   "cell_type": "code",
   "execution_count": 151,
   "metadata": {},
   "outputs": [
    {
     "data": {
      "text/plain": [
       "array(['skoda', 'skoda', 'skoda', ..., 'porsche', 'lamborghini',\n",
       "       'lamborghini'], dtype=object)"
      ]
     },
     "execution_count": 151,
     "metadata": {},
     "output_type": "execute_result"
    }
   ],
   "source": [
    "prediction = le.inverse_transform(prediction)\n",
    "prediction"
   ]
  },
  {
   "cell_type": "code",
   "execution_count": 152,
   "metadata": {},
   "outputs": [
    {
     "data": {
      "text/html": [
       "<div>\n",
       "<style scoped>\n",
       "    .dataframe tbody tr th:only-of-type {\n",
       "        vertical-align: middle;\n",
       "    }\n",
       "\n",
       "    .dataframe tbody tr th {\n",
       "        vertical-align: top;\n",
       "    }\n",
       "\n",
       "    .dataframe thead th {\n",
       "        text-align: right;\n",
       "    }\n",
       "</style>\n",
       "<table border=\"1\" class=\"dataframe\">\n",
       "  <thead>\n",
       "    <tr style=\"text-align: right;\">\n",
       "      <th></th>\n",
       "      <th>maker</th>\n",
       "      <th>mileage</th>\n",
       "      <th>manufacture_year</th>\n",
       "      <th>engine_displacement</th>\n",
       "      <th>engine_power</th>\n",
       "      <th>price_eur</th>\n",
       "      <th>fuel_type_diesel</th>\n",
       "      <th>fuel_type_gasoline</th>\n",
       "      <th>transmission_auto</th>\n",
       "      <th>transmission_man</th>\n",
       "      <th>seat_str_large</th>\n",
       "      <th>seat_str_medium</th>\n",
       "      <th>seat_str_small</th>\n",
       "      <th>ad_duration</th>\n",
       "    </tr>\n",
       "  </thead>\n",
       "  <tbody>\n",
       "    <tr>\n",
       "      <th>9</th>\n",
       "      <td>skoda</td>\n",
       "      <td>301381.0</td>\n",
       "      <td>2002.0</td>\n",
       "      <td>1900.0</td>\n",
       "      <td>88.0</td>\n",
       "      <td>1332.35</td>\n",
       "      <td>1</td>\n",
       "      <td>0</td>\n",
       "      <td>0</td>\n",
       "      <td>1</td>\n",
       "      <td>0</td>\n",
       "      <td>1</td>\n",
       "      <td>0</td>\n",
       "      <td>74</td>\n",
       "    </tr>\n",
       "    <tr>\n",
       "      <th>10</th>\n",
       "      <td>skoda</td>\n",
       "      <td>202136.0</td>\n",
       "      <td>2002.0</td>\n",
       "      <td>1400.0</td>\n",
       "      <td>55.0</td>\n",
       "      <td>740.19</td>\n",
       "      <td>0</td>\n",
       "      <td>1</td>\n",
       "      <td>0</td>\n",
       "      <td>1</td>\n",
       "      <td>0</td>\n",
       "      <td>1</td>\n",
       "      <td>0</td>\n",
       "      <td>74</td>\n",
       "    </tr>\n",
       "    <tr>\n",
       "      <th>11</th>\n",
       "      <td>skoda</td>\n",
       "      <td>263840.0</td>\n",
       "      <td>1998.0</td>\n",
       "      <td>1900.0</td>\n",
       "      <td>81.0</td>\n",
       "      <td>999.26</td>\n",
       "      <td>1</td>\n",
       "      <td>0</td>\n",
       "      <td>0</td>\n",
       "      <td>1</td>\n",
       "      <td>0</td>\n",
       "      <td>1</td>\n",
       "      <td>0</td>\n",
       "      <td>74</td>\n",
       "    </tr>\n",
       "    <tr>\n",
       "      <th>12</th>\n",
       "      <td>audi</td>\n",
       "      <td>105394.0</td>\n",
       "      <td>2000.0</td>\n",
       "      <td>1360.0</td>\n",
       "      <td>55.0</td>\n",
       "      <td>1665.43</td>\n",
       "      <td>0</td>\n",
       "      <td>1</td>\n",
       "      <td>0</td>\n",
       "      <td>1</td>\n",
       "      <td>0</td>\n",
       "      <td>1</td>\n",
       "      <td>0</td>\n",
       "      <td>74</td>\n",
       "    </tr>\n",
       "    <tr>\n",
       "      <th>16</th>\n",
       "      <td>audi</td>\n",
       "      <td>115879.0</td>\n",
       "      <td>2003.0</td>\n",
       "      <td>1900.0</td>\n",
       "      <td>88.0</td>\n",
       "      <td>2220.58</td>\n",
       "      <td>1</td>\n",
       "      <td>0</td>\n",
       "      <td>0</td>\n",
       "      <td>1</td>\n",
       "      <td>0</td>\n",
       "      <td>1</td>\n",
       "      <td>0</td>\n",
       "      <td>74</td>\n",
       "    </tr>\n",
       "  </tbody>\n",
       "</table>\n",
       "</div>"
      ],
      "text/plain": [
       "    maker   mileage  manufacture_year  engine_displacement  engine_power  \\\n",
       "9   skoda  301381.0            2002.0               1900.0          88.0   \n",
       "10  skoda  202136.0            2002.0               1400.0          55.0   \n",
       "11  skoda  263840.0            1998.0               1900.0          81.0   \n",
       "12   audi  105394.0            2000.0               1360.0          55.0   \n",
       "16   audi  115879.0            2003.0               1900.0          88.0   \n",
       "\n",
       "    price_eur  fuel_type_diesel  fuel_type_gasoline  transmission_auto  \\\n",
       "9     1332.35                 1                   0                  0   \n",
       "10     740.19                 0                   1                  0   \n",
       "11     999.26                 1                   0                  0   \n",
       "12    1665.43                 0                   1                  0   \n",
       "16    2220.58                 1                   0                  0   \n",
       "\n",
       "    transmission_man  seat_str_large  seat_str_medium  seat_str_small  \\\n",
       "9                  1               0                1               0   \n",
       "10                 1               0                1               0   \n",
       "11                 1               0                1               0   \n",
       "12                 1               0                1               0   \n",
       "16                 1               0                1               0   \n",
       "\n",
       "    ad_duration  \n",
       "9            74  \n",
       "10           74  \n",
       "11           74  \n",
       "12           74  \n",
       "16           74  "
      ]
     },
     "execution_count": 152,
     "metadata": {},
     "output_type": "execute_result"
    }
   ],
   "source": [
    "df_no_maker.insert(0, 'maker', prediction)\n",
    "df_no_maker.head()"
   ]
  },
  {
   "cell_type": "code",
   "execution_count": 153,
   "metadata": {},
   "outputs": [
    {
     "data": {
      "text/html": [
       "<div>\n",
       "<style scoped>\n",
       "    .dataframe tbody tr th:only-of-type {\n",
       "        vertical-align: middle;\n",
       "    }\n",
       "\n",
       "    .dataframe tbody tr th {\n",
       "        vertical-align: top;\n",
       "    }\n",
       "\n",
       "    .dataframe thead th {\n",
       "        text-align: right;\n",
       "    }\n",
       "</style>\n",
       "<table border=\"1\" class=\"dataframe\">\n",
       "  <thead>\n",
       "    <tr style=\"text-align: right;\">\n",
       "      <th></th>\n",
       "      <th>maker</th>\n",
       "      <th>mileage</th>\n",
       "      <th>manufacture_year</th>\n",
       "      <th>engine_displacement</th>\n",
       "      <th>engine_power</th>\n",
       "      <th>price_eur</th>\n",
       "      <th>fuel_type_diesel</th>\n",
       "      <th>fuel_type_gasoline</th>\n",
       "      <th>transmission_auto</th>\n",
       "      <th>transmission_man</th>\n",
       "      <th>seat_str_large</th>\n",
       "      <th>seat_str_medium</th>\n",
       "      <th>seat_str_small</th>\n",
       "      <th>ad_duration</th>\n",
       "    </tr>\n",
       "  </thead>\n",
       "  <tbody>\n",
       "    <tr>\n",
       "      <th>0</th>\n",
       "      <td>ford</td>\n",
       "      <td>151000.0</td>\n",
       "      <td>2011.0</td>\n",
       "      <td>2000.0</td>\n",
       "      <td>103.0</td>\n",
       "      <td>10584.75</td>\n",
       "      <td>1</td>\n",
       "      <td>0</td>\n",
       "      <td>0</td>\n",
       "      <td>1</td>\n",
       "      <td>1</td>\n",
       "      <td>0</td>\n",
       "      <td>0</td>\n",
       "      <td>74</td>\n",
       "    </tr>\n",
       "    <tr>\n",
       "      <th>1</th>\n",
       "      <td>skoda</td>\n",
       "      <td>143476.0</td>\n",
       "      <td>2012.0</td>\n",
       "      <td>2000.0</td>\n",
       "      <td>81.0</td>\n",
       "      <td>8882.31</td>\n",
       "      <td>1</td>\n",
       "      <td>0</td>\n",
       "      <td>0</td>\n",
       "      <td>1</td>\n",
       "      <td>0</td>\n",
       "      <td>1</td>\n",
       "      <td>0</td>\n",
       "      <td>74</td>\n",
       "    </tr>\n",
       "    <tr>\n",
       "      <th>2</th>\n",
       "      <td>bmw</td>\n",
       "      <td>97676.0</td>\n",
       "      <td>2010.0</td>\n",
       "      <td>1995.0</td>\n",
       "      <td>85.0</td>\n",
       "      <td>12065.06</td>\n",
       "      <td>1</td>\n",
       "      <td>0</td>\n",
       "      <td>0</td>\n",
       "      <td>1</td>\n",
       "      <td>0</td>\n",
       "      <td>1</td>\n",
       "      <td>0</td>\n",
       "      <td>74</td>\n",
       "    </tr>\n",
       "    <tr>\n",
       "      <th>3</th>\n",
       "      <td>skoda</td>\n",
       "      <td>111970.0</td>\n",
       "      <td>2004.0</td>\n",
       "      <td>1200.0</td>\n",
       "      <td>64.0</td>\n",
       "      <td>2960.77</td>\n",
       "      <td>0</td>\n",
       "      <td>1</td>\n",
       "      <td>0</td>\n",
       "      <td>1</td>\n",
       "      <td>0</td>\n",
       "      <td>1</td>\n",
       "      <td>0</td>\n",
       "      <td>74</td>\n",
       "    </tr>\n",
       "    <tr>\n",
       "      <th>4</th>\n",
       "      <td>skoda</td>\n",
       "      <td>128886.0</td>\n",
       "      <td>2004.0</td>\n",
       "      <td>1200.0</td>\n",
       "      <td>64.0</td>\n",
       "      <td>2738.71</td>\n",
       "      <td>0</td>\n",
       "      <td>1</td>\n",
       "      <td>0</td>\n",
       "      <td>1</td>\n",
       "      <td>0</td>\n",
       "      <td>1</td>\n",
       "      <td>0</td>\n",
       "      <td>74</td>\n",
       "    </tr>\n",
       "  </tbody>\n",
       "</table>\n",
       "</div>"
      ],
      "text/plain": [
       "   maker   mileage  manufacture_year  engine_displacement  engine_power  \\\n",
       "0   ford  151000.0            2011.0               2000.0         103.0   \n",
       "1  skoda  143476.0            2012.0               2000.0          81.0   \n",
       "2    bmw   97676.0            2010.0               1995.0          85.0   \n",
       "3  skoda  111970.0            2004.0               1200.0          64.0   \n",
       "4  skoda  128886.0            2004.0               1200.0          64.0   \n",
       "\n",
       "   price_eur  fuel_type_diesel  fuel_type_gasoline  transmission_auto  \\\n",
       "0   10584.75                 1                   0                  0   \n",
       "1    8882.31                 1                   0                  0   \n",
       "2   12065.06                 1                   0                  0   \n",
       "3    2960.77                 0                   1                  0   \n",
       "4    2738.71                 0                   1                  0   \n",
       "\n",
       "   transmission_man  seat_str_large  seat_str_medium  seat_str_small  \\\n",
       "0                 1               1                0               0   \n",
       "1                 1               0                1               0   \n",
       "2                 1               0                1               0   \n",
       "3                 1               0                1               0   \n",
       "4                 1               0                1               0   \n",
       "\n",
       "   ad_duration  \n",
       "0           74  \n",
       "1           74  \n",
       "2           74  \n",
       "3           74  \n",
       "4           74  "
      ]
     },
     "execution_count": 153,
     "metadata": {},
     "output_type": "execute_result"
    }
   ],
   "source": [
    "frames = [df_with_maker, df_no_maker]\n",
    "df = pd.concat(frames)\n",
    "df.head()"
   ]
  },
  {
   "cell_type": "code",
   "execution_count": 154,
   "metadata": {},
   "outputs": [],
   "source": [
    "df_exper = df.copy()"
   ]
  },
  {
   "cell_type": "code",
   "execution_count": 155,
   "metadata": {},
   "outputs": [],
   "source": [
    "df_final = pd.get_dummies(df,columns=[\"maker\"])\n",
    "#df_final = df.drop(\"maker\", axis=1)"
   ]
  },
  {
   "cell_type": "code",
   "execution_count": 156,
   "metadata": {},
   "outputs": [
    {
     "name": "stdout",
     "output_type": "stream",
     "text": [
      "MSE: 323579815.7589276\n",
      "R2 score: 0.3460333919391285\n"
     ]
    }
   ],
   "source": [
    "from sklearn.linear_model import LinearRegression\n",
    "from sklearn.metrics import mean_squared_error, r2_score\n",
    "\n",
    "X = df_final.drop(\"price_eur\", axis=1).values\n",
    "Y = df_final[\"price_eur\"].values\n",
    "\n",
    "X_train, X_test, Y_train, Y_test = train_test_split(X,Y, test_size=0.1, random_state=0)\n",
    "\n",
    "\n",
    "ll = LinearRegression()\n",
    "ll.fit(X_train, Y_train)\n",
    "Y_pred = ll.predict(X_test)\n",
    "\n",
    "print(\"MSE: \"+str(mean_squared_error(Y_test, Y_pred)))\n",
    "print(\"R2 score: \"+str(r2_score(Y_test, Y_pred)))"
   ]
  },
  {
   "cell_type": "code",
   "execution_count": 157,
   "metadata": {},
   "outputs": [
    {
     "name": "stdout",
     "output_type": "stream",
     "text": [
      "MSE: 0.2355929546631134\n",
      "R2 score: 0.7557791683467578\n"
     ]
    },
    {
     "data": {
      "text/plain": [
       "867800"
      ]
     },
     "execution_count": 157,
     "metadata": {},
     "output_type": "execute_result"
    }
   ],
   "source": [
    "from sklearn.linear_model import LinearRegression\n",
    "from sklearn.metrics import mean_squared_error, r2_score\n",
    "\n",
    "X = df_final.drop(\"price_eur\", axis=1).values\n",
    "Y = np.log1p(df_final[\"price_eur\"].values)\n",
    "\n",
    "X_train, X_test, Y_train, Y_test = train_test_split(X,Y, test_size=0.1, random_state=0)\n",
    "\n",
    "\n",
    "ll = LinearRegression()\n",
    "ll.fit(X_train, Y_train)\n",
    "Y_pred = ll.predict(X_test)\n",
    "\n",
    "print(\"MSE: \"+str(mean_squared_error(Y_test, Y_pred)))\n",
    "print(\"R2 score: \"+str(r2_score(Y_test, Y_pred)))\n",
    "#R2 score: 0.7628874719468213\n",
    "df_final.shape[0]"
   ]
  },
  {
   "cell_type": "code",
   "execution_count": 158,
   "metadata": {},
   "outputs": [
    {
     "data": {
      "text/plain": [
       "<matplotlib.axes._subplots.AxesSubplot at 0x7fa21499f6a0>"
      ]
     },
     "execution_count": 158,
     "metadata": {},
     "output_type": "execute_result"
    },
    {
     "data": {
      "image/png": "[encoded data removed]",
      "text/plain": [
       "<Figure size 432x288 with 1 Axes>"
      ]
     },
     "metadata": {
      "needs_background": "light"
     },
     "output_type": "display_data"
    }
   ],
   "source": [
    "actual_predicted = pd.DataFrame({\"predicted\": ll.predict(X_test), \n",
    "                                  \"actual\": Y_test})\n",
    "\n",
    "actual_predicted.plot.scatter(x=\"actual\", y=\"predicted\")"
   ]
  },
  {
   "cell_type": "code",
   "execution_count": 159,
   "metadata": {},
   "outputs": [
    {
     "name": "stdout",
     "output_type": "stream",
     "text": [
      "MSE: 0.09257015041420488\n",
      "R2 score: 0.8704140375764662\n"
     ]
    },
    {
     "data": {
      "text/plain": [
       "261468"
      ]
     },
     "execution_count": 159,
     "metadata": {},
     "output_type": "execute_result"
    }
   ],
   "source": [
    "df_exper = df_final.copy()\n",
    "\n",
    "from scipy import stats\n",
    "\n",
    "df_exper = df_exper\\\n",
    "    .loc[:, lambda df: df.std() > 0.05]\\\n",
    "    .loc[lambda df: (np.abs(stats.zscore(df)) < 3).all(axis=1)]\n",
    "\n",
    "from sklearn.linear_model import LinearRegression\n",
    "from sklearn.metrics import mean_squared_error, r2_score\n",
    "\n",
    "X = df_exper.drop(\"price_eur\", axis=1).values\n",
    "Y = np.log1p(df_exper[\"price_eur\"].values)\n",
    "\n",
    "X_train, X_test, Y_train, Y_test = train_test_split(X,Y, test_size=0.1, random_state=0)\n",
    "\n",
    "\n",
    "ll = LinearRegression()\n",
    "ll.fit(X_train, Y_train)\n",
    "Y_pred = ll.predict(X_test)\n",
    "\n",
    "print(\"MSE: \"+str(mean_squared_error(Y_test, Y_pred)))\n",
    "print(\"R2 score: \"+str(r2_score(Y_test, Y_pred)))\n",
    "#R2 score: 0.8904640737775003\n",
    "df_exper.shape[0]"
   ]
  },
  {
   "cell_type": "code",
   "execution_count": 161,
   "metadata": {},
   "outputs": [
    {
     "name": "stdout",
     "output_type": "stream",
     "text": [
      "Epoch 1/2\n",
      "7354/7354 [==============================] - 9s 1ms/step - loss: nan\n",
      "Epoch 2/2\n",
      "7354/7354 [==============================] - 8s 1ms/step - loss: nan\n"
     ]
    },
    {
     "data": {
      "text/plain": [
       "<tensorflow.python.keras.callbacks.History at 0x7fa194a2bbe0>"
      ]
     },
     "execution_count": 161,
     "metadata": {},
     "output_type": "execute_result"
    }
   ],
   "source": [
    "df_dl= df_final.copy()\n",
    "\n",
    "from scipy import stats\n",
    "\n",
    "df_dl = df_dl\\\n",
    "    .loc[:, lambda df: df.std() > 0.05]\\\n",
    "    .loc[lambda df: (np.abs(stats.zscore(df)) < 3).all(axis=1)]\n",
    "\n",
    "from sklearn.linear_model import LinearRegression\n",
    "from sklearn.metrics import mean_squared_error, r2_score\n",
    "\n",
    "X = df_dl.drop(\"price_eur\", axis=1).values\n",
    "Y = np.log1p(df_dl[\"price_eur\"].values)\n",
    "\n",
    "X_train, X_test, Y_train, Y_test = train_test_split(X,Y, test_size=0.1, random_state=0)\n",
    "\n",
    "\n",
    "model = Sequential()\n",
    "model.add(Dense(512, input_dim=X_train.shape[1]))\n",
    "model.add(Dense(256, input_dim=X_train.shape[1]))\n",
    "model.add(Dense(128, input_dim=X_train.shape[1]))\n",
    "model.add(Dense(1, ))\n",
    "\n",
    "model.compile(optimizer='sgd', loss='mean_squared_error')\n",
    "model.fit(X_train, Y_train, epochs=2)"
   ]
  },
  {
   "cell_type": "code",
   "execution_count": 164,
   "metadata": {},
   "outputs": [
    {
     "name": "stdout",
     "output_type": "stream",
     "text": [
      "818/818 [==============================] - 1s 723us/step - loss: nan\n",
      "MSE sul test set: nan\n"
     ]
    },
    {
     "ename": "ValueError",
     "evalue": "Input contains NaN, infinity or a value too large for dtype('float32').",
     "output_type": "error",
     "traceback": [
      "\u001b[0;31m---------------------------------------------------------------------------\u001b[0m",
      "\u001b[0;31mValueError\u001b[0m                                Traceback (most recent call last)",
      "\u001b[0;32m<ipython-input-164-d3535d4ed976>\u001b[0m in \u001b[0;36m<module>\u001b[0;34m\u001b[0m\n\u001b[1;32m      3\u001b[0m \u001b[0;34m\u001b[0m\u001b[0m\n\u001b[1;32m      4\u001b[0m \u001b[0mY_pred\u001b[0m \u001b[0;34m=\u001b[0m \u001b[0mmodel\u001b[0m\u001b[0;34m.\u001b[0m\u001b[0mpredict\u001b[0m\u001b[0;34m(\u001b[0m\u001b[0mX_test\u001b[0m\u001b[0;34m)\u001b[0m\u001b[0;34m\u001b[0m\u001b[0;34m\u001b[0m\u001b[0m\n\u001b[0;32m----> 5\u001b[0;31m \u001b[0mr2_score\u001b[0m\u001b[0;34m(\u001b[0m\u001b[0mY_test\u001b[0m\u001b[0;34m,\u001b[0m \u001b[0mY_pred\u001b[0m\u001b[0;34m)\u001b[0m\u001b[0;34m\u001b[0m\u001b[0;34m\u001b[0m\u001b[0m\n\u001b[0m",
      "\u001b[0;32m~/anaconda3/lib/python3.7/site-packages/sklearn/metrics/regression.py\u001b[0m in \u001b[0;36mr2_score\u001b[0;34m(y_true, y_pred, sample_weight, multioutput)\u001b[0m\n\u001b[1;32m    536\u001b[0m     \"\"\"\n\u001b[1;32m    537\u001b[0m     y_type, y_true, y_pred, multioutput = _check_reg_targets(\n\u001b[0;32m--> 538\u001b[0;31m         y_true, y_pred, multioutput)\n\u001b[0m\u001b[1;32m    539\u001b[0m     \u001b[0mcheck_consistent_length\u001b[0m\u001b[0;34m(\u001b[0m\u001b[0my_true\u001b[0m\u001b[0;34m,\u001b[0m \u001b[0my_pred\u001b[0m\u001b[0;34m,\u001b[0m \u001b[0msample_weight\u001b[0m\u001b[0;34m)\u001b[0m\u001b[0;34m\u001b[0m\u001b[0;34m\u001b[0m\u001b[0m\n\u001b[1;32m    540\u001b[0m \u001b[0;34m\u001b[0m\u001b[0m\n",
      "\u001b[0;32m~/anaconda3/lib/python3.7/site-packages/sklearn/metrics/regression.py\u001b[0m in \u001b[0;36m_check_reg_targets\u001b[0;34m(y_true, y_pred, multioutput)\u001b[0m\n\u001b[1;32m     77\u001b[0m     \u001b[0mcheck_consistent_length\u001b[0m\u001b[0;34m(\u001b[0m\u001b[0my_true\u001b[0m\u001b[0;34m,\u001b[0m \u001b[0my_pred\u001b[0m\u001b[0;34m)\u001b[0m\u001b[0;34m\u001b[0m\u001b[0;34m\u001b[0m\u001b[0m\n\u001b[1;32m     78\u001b[0m     \u001b[0my_true\u001b[0m \u001b[0;34m=\u001b[0m \u001b[0mcheck_array\u001b[0m\u001b[0;34m(\u001b[0m\u001b[0my_true\u001b[0m\u001b[0;34m,\u001b[0m \u001b[0mensure_2d\u001b[0m\u001b[0;34m=\u001b[0m\u001b[0;32mFalse\u001b[0m\u001b[0;34m)\u001b[0m\u001b[0;34m\u001b[0m\u001b[0;34m\u001b[0m\u001b[0m\n\u001b[0;32m---> 79\u001b[0;31m     \u001b[0my_pred\u001b[0m \u001b[0;34m=\u001b[0m \u001b[0mcheck_array\u001b[0m\u001b[0;34m(\u001b[0m\u001b[0my_pred\u001b[0m\u001b[0;34m,\u001b[0m \u001b[0mensure_2d\u001b[0m\u001b[0;34m=\u001b[0m\u001b[0;32mFalse\u001b[0m\u001b[0;34m)\u001b[0m\u001b[0;34m\u001b[0m\u001b[0;34m\u001b[0m\u001b[0m\n\u001b[0m\u001b[1;32m     80\u001b[0m \u001b[0;34m\u001b[0m\u001b[0m\n\u001b[1;32m     81\u001b[0m     \u001b[0;32mif\u001b[0m \u001b[0my_true\u001b[0m\u001b[0;34m.\u001b[0m\u001b[0mndim\u001b[0m \u001b[0;34m==\u001b[0m \u001b[0;36m1\u001b[0m\u001b[0;34m:\u001b[0m\u001b[0;34m\u001b[0m\u001b[0;34m\u001b[0m\u001b[0m\n",
      "\u001b[0;32m~/anaconda3/lib/python3.7/site-packages/sklearn/utils/validation.py\u001b[0m in \u001b[0;36mcheck_array\u001b[0;34m(array, accept_sparse, accept_large_sparse, dtype, order, copy, force_all_finite, ensure_2d, allow_nd, ensure_min_samples, ensure_min_features, warn_on_dtype, estimator)\u001b[0m\n\u001b[1;32m    540\u001b[0m         \u001b[0;32mif\u001b[0m \u001b[0mforce_all_finite\u001b[0m\u001b[0;34m:\u001b[0m\u001b[0;34m\u001b[0m\u001b[0;34m\u001b[0m\u001b[0m\n\u001b[1;32m    541\u001b[0m             _assert_all_finite(array,\n\u001b[0;32m--> 542\u001b[0;31m                                allow_nan=force_all_finite == 'allow-nan')\n\u001b[0m\u001b[1;32m    543\u001b[0m \u001b[0;34m\u001b[0m\u001b[0m\n\u001b[1;32m    544\u001b[0m     \u001b[0;32mif\u001b[0m \u001b[0mensure_min_samples\u001b[0m \u001b[0;34m>\u001b[0m \u001b[0;36m0\u001b[0m\u001b[0;34m:\u001b[0m\u001b[0;34m\u001b[0m\u001b[0;34m\u001b[0m\u001b[0m\n",
      "\u001b[0;32m~/anaconda3/lib/python3.7/site-packages/sklearn/utils/validation.py\u001b[0m in \u001b[0;36m_assert_all_finite\u001b[0;34m(X, allow_nan)\u001b[0m\n\u001b[1;32m     54\u001b[0m                 not allow_nan and not np.isfinite(X).all()):\n\u001b[1;32m     55\u001b[0m             \u001b[0mtype_err\u001b[0m \u001b[0;34m=\u001b[0m \u001b[0;34m'infinity'\u001b[0m \u001b[0;32mif\u001b[0m \u001b[0mallow_nan\u001b[0m \u001b[0;32melse\u001b[0m \u001b[0;34m'NaN, infinity'\u001b[0m\u001b[0;34m\u001b[0m\u001b[0;34m\u001b[0m\u001b[0m\n\u001b[0;32m---> 56\u001b[0;31m             \u001b[0;32mraise\u001b[0m \u001b[0mValueError\u001b[0m\u001b[0;34m(\u001b[0m\u001b[0mmsg_err\u001b[0m\u001b[0;34m.\u001b[0m\u001b[0mformat\u001b[0m\u001b[0;34m(\u001b[0m\u001b[0mtype_err\u001b[0m\u001b[0;34m,\u001b[0m \u001b[0mX\u001b[0m\u001b[0;34m.\u001b[0m\u001b[0mdtype\u001b[0m\u001b[0;34m)\u001b[0m\u001b[0;34m)\u001b[0m\u001b[0;34m\u001b[0m\u001b[0;34m\u001b[0m\u001b[0m\n\u001b[0m\u001b[1;32m     57\u001b[0m     \u001b[0;31m# for object dtype data, we only check for NaNs (GH-13254)\u001b[0m\u001b[0;34m\u001b[0m\u001b[0;34m\u001b[0m\u001b[0;34m\u001b[0m\u001b[0m\n\u001b[1;32m     58\u001b[0m     \u001b[0;32melif\u001b[0m \u001b[0mX\u001b[0m\u001b[0;34m.\u001b[0m\u001b[0mdtype\u001b[0m \u001b[0;34m==\u001b[0m \u001b[0mnp\u001b[0m\u001b[0;34m.\u001b[0m\u001b[0mdtype\u001b[0m\u001b[0;34m(\u001b[0m\u001b[0;34m'object'\u001b[0m\u001b[0;34m)\u001b[0m \u001b[0;32mand\u001b[0m \u001b[0;32mnot\u001b[0m \u001b[0mallow_nan\u001b[0m\u001b[0;34m:\u001b[0m\u001b[0;34m\u001b[0m\u001b[0;34m\u001b[0m\u001b[0m\n",
      "\u001b[0;31mValueError\u001b[0m: Input contains NaN, infinity or a value too large for dtype('float32')."
     ]
    }
   ],
   "source": [
    "mse = model.evaluate(X_test,Y_test)\n",
    "print(\"MSE sul test set: %.4f\" % mse)\n",
    "\n",
    "Y_pred = model.predict(X_test)\n",
    "r2_score(Y_test, Y_pred)"
   ]
  },
  {
   "cell_type": "code",
   "execution_count": 160,
   "metadata": {},
   "outputs": [
    {
     "data": {
      "text/plain": [
       "<matplotlib.axes._subplots.AxesSubplot at 0x7fa1b14ac6d8>"
      ]
     },
     "execution_count": 160,
     "metadata": {},
     "output_type": "execute_result"
    },
    {
     "data": {
      "image/png": "[encoded data removed]",
      "text/plain": [
       "<Figure size 432x288 with 1 Axes>"
      ]
     },
     "metadata": {
      "needs_background": "light"
     },
     "output_type": "display_data"
    }
   ],
   "source": [
    "actual_predicted = pd.DataFrame({\"predicted\": Y_pred, \n",
    "                                  \"actual\": Y_test})\n",
    "\n",
    "actual_predicted.plot.scatter(x=\"actual\", y=\"predicted\")"
   ]
  }
 ],
 "metadata": {
  "kernelspec": {
   "display_name": "Python 3",
   "language": "python",
   "name": "python3"
  },
  "language_info": {
   "codemirror_mode": {
    "name": "ipython",
    "version": 3
   },
   "file_extension": ".py",
   "mimetype": "text/x-python",
   "name": "python",
   "nbconvert_exporter": "python",
   "pygments_lexer": "ipython3",
   "version": "3.7.9"
  }
 },
 "nbformat": 4,
 "nbformat_minor": 2
}
