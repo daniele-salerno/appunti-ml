{
  "nbformat": 4,
  "nbformat_minor": 0,
  "metadata": {
    "colab": {
      "name": "Operare su variabili categoriche.ipynb",
      "version": "0.3.2",
      "provenance": [],
      "include_colab_link": true
    },
    "kernelspec": {
      "display_name": "Python 3",
      "language": "python",
      "name": "python3"
    }
  },
  "cells": [
    {
      "cell_type": "markdown",
      "metadata": {
        "id": "view-in-github",
        "colab_type": "text"
      },
      "source": [
        "<a href=\"https://colab.research.google.com/github/ProfAI/ml00/blob/master/2%20-%20Datasets%20e%20data%20preprocessing/Operare%20su%20variabili%20categoriche.ipynb\" target=\"_parent\"><img src=\"https://colab.research.google.com/assets/colab-badge.svg\" alt=\"Open In Colab\"/></a>"
      ]
    },
    {
      "metadata": {
        "id": "e4__to0e8oV9",
        "colab_type": "text"
      },
      "cell_type": "markdown",
      "source": [
        "# Operare su dati qualitativi\n",
        "\n",
        "All'interno di un dataset strutturato puoi trovare due tipologie di dati\n",
        "<ul>\n",
        "    <li>**Variabili quantitative continue:** numeri che indicano una quantità</li>\n",
        "    <li>**Variabili qualiative ordinate (ordinali):** numeri o stringhe che rappresentano delle classi che possono essere ordinate</li>\n",
        "    <li>**Variabili qualitative sconnesse (nominali):** numeri e stringhe rappresentanti classi che non hanno un ordine</li>\n",
        "</ul>\n",
        "\n",
        "<img src=\"https://github.com/ProfAI/ml00/blob/master/2%20-%20Datasets%20e%20data%20preprocessing/res/variables.png?raw=1\" width=\"350px\">\n",
        "\n",
        "Le variabili qualitative possono essere rappresentate anche da stringhe, in questo caso bisogna codificarle all'interno di numeri per poterle usare come input per un algoritmo di machine learning.\n",
        "Cominciamo caricando il dataset di esempio, questo contiene un elenco di maglie con le seguenti caratteristiche: prezzo, taglie e colore."
      ]
    },
    {
      "metadata": {
        "id": "eOWQ9lS-8oV-",
        "colab_type": "code",
        "colab": {
          "base_uri": "https://localhost:8080/",
          "height": 203
        },
        "outputId": "b48a6c2e-dbc4-4fc7-ddcb-07b716a64bf0"
      },
      "cell_type": "code",
      "source": [
        "import pandas as pd\n",
        "\n",
        "shirts = pd.read_csv(\"https://raw.githubusercontent.com/ProfAI/ml00/master/2%20-%20Datasets%20e%20data%20preprocessing/data/shirts.csv\",index_col=0)\n",
        "shirts.head()"
      ],
      "execution_count": 3,
      "outputs": [
        {
          "output_type": "execute_result",
          "data": {
            "text/html": [
              "<div>\n",
              "<style scoped>\n",
              "    .dataframe tbody tr th:only-of-type {\n",
              "        vertical-align: middle;\n",
              "    }\n",
              "\n",
              "    .dataframe tbody tr th {\n",
              "        vertical-align: top;\n",
              "    }\n",
              "\n",
              "    .dataframe thead th {\n",
              "        text-align: right;\n",
              "    }\n",
              "</style>\n",
              "<table border=\"1\" class=\"dataframe\">\n",
              "  <thead>\n",
              "    <tr style=\"text-align: right;\">\n",
              "      <th></th>\n",
              "      <th>taglia</th>\n",
              "      <th>colore</th>\n",
              "      <th>prezzo</th>\n",
              "    </tr>\n",
              "  </thead>\n",
              "  <tbody>\n",
              "    <tr>\n",
              "      <th>0</th>\n",
              "      <td>S</td>\n",
              "      <td>bianco</td>\n",
              "      <td>4.99</td>\n",
              "    </tr>\n",
              "    <tr>\n",
              "      <th>1</th>\n",
              "      <td>M</td>\n",
              "      <td>bianco</td>\n",
              "      <td>19.99</td>\n",
              "    </tr>\n",
              "    <tr>\n",
              "      <th>2</th>\n",
              "      <td>XL</td>\n",
              "      <td>bianco</td>\n",
              "      <td>12.49</td>\n",
              "    </tr>\n",
              "    <tr>\n",
              "      <th>3</th>\n",
              "      <td>XL</td>\n",
              "      <td>bianco</td>\n",
              "      <td>14.99</td>\n",
              "    </tr>\n",
              "    <tr>\n",
              "      <th>4</th>\n",
              "      <td>S</td>\n",
              "      <td>bianco</td>\n",
              "      <td>14.99</td>\n",
              "    </tr>\n",
              "  </tbody>\n",
              "</table>\n",
              "</div>"
            ],
            "text/plain": [
              "  taglia  colore  prezzo\n",
              "0      S  bianco    4.99\n",
              "1      M  bianco   19.99\n",
              "2     XL  bianco   12.49\n",
              "3     XL  bianco   14.99\n",
              "4      S  bianco   14.99"
            ]
          },
          "metadata": {
            "tags": []
          },
          "execution_count": 3
        }
      ]
    },
    {
      "metadata": {
        "id": "A1hUNGzP8oWD",
        "colab_type": "text"
      },
      "cell_type": "markdown",
      "source": [
        "**NOTA BENE**<br>\n",
        "In inglese le variabili qualitative sono conosciute come *categorical variables (ordinal e nominal)*."
      ]
    },
    {
      "metadata": {
        "id": "rmFUvWem8oWE",
        "colab_type": "text"
      },
      "cell_type": "markdown",
      "source": [
        "## Mapping delle caratteristiche ordinali\n",
        "Le variabili qualitative ordinate (ordinali) possono essere ordinate pertanto è possibile rappresentarle come una lista di numeri che rappresentano la posizione dell'elemento all'interno della lista ordinata.\n",
        "Una funzione non può stimare la posizione di un elemento nella lista, quindi bisogna definirla manualmente con un dizionario."
      ]
    },
    {
      "metadata": {
        "id": "AEyvm7gW8oWF",
        "colab_type": "text"
      },
      "cell_type": "markdown",
      "source": [
        "### Numpy e Scikit-learn\n",
        "Utilizzando il metodo vectorize di numpy possiamo creare una funzione ottimizzata per operare sugli array, questa funzione ci permetterà di sostituire i labels con i numeri corrispondenti definiti nel dizionario."
      ]
    },
    {
      "metadata": {
        "id": "_8w14Gjt8oWG",
        "colab_type": "code",
        "colab": {
          "base_uri": "https://localhost:8080/",
          "height": 103
        },
        "outputId": "d7d9b128-faf5-44d9-db8c-497127571dfe"
      },
      "cell_type": "code",
      "source": [
        "import numpy as np\n",
        "\n",
        "shirts = pd.read_csv(\"https://raw.githubusercontent.com/ProfAI/ml00/master/2%20-%20Datasets%20e%20data%20preprocessing/data/shirts.csv\",index_col=0)\n",
        "X = shirts.values\n",
        "\n",
        "size_mapping = {\"S\":0,\"M\":1,\"L\":2,\"XL\":3} #dizionario che ordina le misure\n",
        "fmap = np.vectorize(lambda t:size_mapping[t])\n",
        "X[:,0] = fmap(X[:,0])\n",
        "X[:5]"
      ],
      "execution_count": 5,
      "outputs": [
        {
          "output_type": "execute_result",
          "data": {
            "text/plain": [
              "array([[0, 'bianco', 4.99],\n",
              "       [1, 'bianco', 19.99],\n",
              "       [3, 'bianco', 12.49],\n",
              "       [3, 'bianco', 14.99],\n",
              "       [0, 'bianco', 14.99]], dtype=object)"
            ]
          },
          "metadata": {
            "tags": []
          },
          "execution_count": 5
        }
      ]
    },
    {
      "metadata": {
        "id": "Kv8GM_0Z8oWJ",
        "colab_type": "text"
      },
      "cell_type": "markdown",
      "source": [
        "### Pandas\n",
        "Per sostituire labels con i numeri nel DataFrame possiamo usare il metodo map."
      ]
    },
    {
      "metadata": {
        "id": "TRJU9Yv78oWK",
        "colab_type": "code",
        "colab": {
          "base_uri": "https://localhost:8080/",
          "height": 203
        },
        "outputId": "d75197f0-c3b4-4912-c11b-735d9df5bc88"
      },
      "cell_type": "code",
      "source": [
        "size_mapping = {\"S\":0,\"M\":1,\"L\":2,\"XL\":3} #dizionario che ordina le misure\n",
        "shirts[\"taglia\"] = shirts[\"taglia\"].map(size_mapping) #mappiamo la misura con il numero corrispondente\n",
        "shirts.head()"
      ],
      "execution_count": 6,
      "outputs": [
        {
          "output_type": "execute_result",
          "data": {
            "text/html": [
              "<div>\n",
              "<style scoped>\n",
              "    .dataframe tbody tr th:only-of-type {\n",
              "        vertical-align: middle;\n",
              "    }\n",
              "\n",
              "    .dataframe tbody tr th {\n",
              "        vertical-align: top;\n",
              "    }\n",
              "\n",
              "    .dataframe thead th {\n",
              "        text-align: right;\n",
              "    }\n",
              "</style>\n",
              "<table border=\"1\" class=\"dataframe\">\n",
              "  <thead>\n",
              "    <tr style=\"text-align: right;\">\n",
              "      <th></th>\n",
              "      <th>taglia</th>\n",
              "      <th>colore</th>\n",
              "      <th>prezzo</th>\n",
              "    </tr>\n",
              "  </thead>\n",
              "  <tbody>\n",
              "    <tr>\n",
              "      <th>0</th>\n",
              "      <td>0</td>\n",
              "      <td>bianco</td>\n",
              "      <td>4.99</td>\n",
              "    </tr>\n",
              "    <tr>\n",
              "      <th>1</th>\n",
              "      <td>1</td>\n",
              "      <td>bianco</td>\n",
              "      <td>19.99</td>\n",
              "    </tr>\n",
              "    <tr>\n",
              "      <th>2</th>\n",
              "      <td>3</td>\n",
              "      <td>bianco</td>\n",
              "      <td>12.49</td>\n",
              "    </tr>\n",
              "    <tr>\n",
              "      <th>3</th>\n",
              "      <td>3</td>\n",
              "      <td>bianco</td>\n",
              "      <td>14.99</td>\n",
              "    </tr>\n",
              "    <tr>\n",
              "      <th>4</th>\n",
              "      <td>0</td>\n",
              "      <td>bianco</td>\n",
              "      <td>14.99</td>\n",
              "    </tr>\n",
              "  </tbody>\n",
              "</table>\n",
              "</div>"
            ],
            "text/plain": [
              "   taglia  colore  prezzo\n",
              "0       0  bianco    4.99\n",
              "1       1  bianco   19.99\n",
              "2       3  bianco   12.49\n",
              "3       3  bianco   14.99\n",
              "4       0  bianco   14.99"
            ]
          },
          "metadata": {
            "tags": []
          },
          "execution_count": 6
        }
      ]
    },
    {
      "metadata": {
        "id": "gwVG4Ai_8oWO",
        "colab_type": "text"
      },
      "cell_type": "markdown",
      "source": [
        "# One-hot encoding\n",
        "Le variabili qualitative sconnesse (nominali) non possono essere mappate come le ordinali, poiché non presentano un ordine interno e quindi è sbagliato assegnare un numero univoco ad ognuna.\n",
        "Il metodo utilizzato in questo caso è il One-hot encoding, e consiste nel creare una nuova colonna per ogni classe che assumerà il valore 1 se l'esempio appartiene alla classe, 0 nell'altro caso, queste variabili sono chiamate **variabili di comodo (dummy variables)**\n",
        "<img src=\"https://github.com/ProfAI/ml00/blob/master/2%20-%20Datasets%20e%20data%20preprocessing/res/onehot.png?raw=1\" width=\"500px\">"
      ]
    },
    {
      "metadata": {
        "id": "V_iPdBAz8oWO",
        "colab_type": "text"
      },
      "cell_type": "markdown",
      "source": [
        "### Numpy e Scikit-learn\n",
        "Se il nostro dataset è un array numpy possiamo utilizzare le classi di scikit-learn LabelEncoder e OneHotEncoder"
      ]
    },
    {
      "metadata": {
        "id": "_AT3khFB8oWP",
        "colab_type": "code",
        "colab": {
          "base_uri": "https://localhost:8080/",
          "height": 226
        },
        "outputId": "90dd223a-b4cd-43b9-bc60-7c7d36003896"
      },
      "cell_type": "code",
      "source": [
        "from sklearn.preprocessing import LabelEncoder\n",
        "from sklearn.preprocessing import OneHotEncoder\n",
        "\n",
        "X = shirts.values # Otteniamo l'array numpy corrispondente al DataFrame\n",
        "\n",
        "le = LabelEncoder() # Per prima cosa mappiamo le classi in numeri \n",
        "X[:,1] = le.fit_transform(X[:,1]) # eseguiamo il mapping solo sulla colonna del colore (X[:,1])\n",
        "enc = OneHotEncoder(categorical_features=[1]) # Dopo eseguiamo il one hot encoding, \n",
        "                                              # specifichiamo di eseguirlo sulla colonna del colore con l'attributo categorical_features \n",
        "X_sparse = enc.fit_transform(X) # Il risultato sarà una matrice sparsa\n",
        "X = X_sparse.toarray() # riconvertiamo la matrice sparsa in un array numpy\n",
        "X[:5] #le prime tre colonne rappresentano la classe-colore (bianco, rosso e verde), la quarta la taglia e la quinta il prezzo"
      ],
      "execution_count": 7,
      "outputs": [
        {
          "output_type": "stream",
          "text": [
            "/usr/local/lib/python3.6/dist-packages/sklearn/preprocessing/_encoders.py:371: FutureWarning: The handling of integer data will change in version 0.22. Currently, the categories are determined based on the range [0, max(values)], while in the future they will be determined based on the unique values.\n",
            "If you want the future behaviour and silence this warning, you can specify \"categories='auto'\".\n",
            "In case you used a LabelEncoder before this OneHotEncoder to convert the categories to integers, then you can now use the OneHotEncoder directly.\n",
            "  warnings.warn(msg, FutureWarning)\n",
            "/usr/local/lib/python3.6/dist-packages/sklearn/preprocessing/_encoders.py:392: DeprecationWarning: The 'categorical_features' keyword is deprecated in version 0.20 and will be removed in 0.22. You can use the ColumnTransformer instead.\n",
            "  \"use the ColumnTransformer instead.\", DeprecationWarning)\n"
          ],
          "name": "stderr"
        },
        {
          "output_type": "execute_result",
          "data": {
            "text/plain": [
              "array([[ 1.  ,  0.  ,  0.  ,  0.  ,  4.99],\n",
              "       [ 1.  ,  0.  ,  0.  ,  1.  , 19.99],\n",
              "       [ 1.  ,  0.  ,  0.  ,  3.  , 12.49],\n",
              "       [ 1.  ,  0.  ,  0.  ,  3.  , 14.99],\n",
              "       [ 1.  ,  0.  ,  0.  ,  0.  , 14.99]])"
            ]
          },
          "metadata": {
            "tags": []
          },
          "execution_count": 7
        }
      ]
    },
    {
      "metadata": {
        "id": "dEpcjoYE9C1D",
        "colab_type": "text"
      },
      "cell_type": "markdown",
      "source": [
        "### UPDATE Aprile 2019\n",
        "Nella versione 0.20 di scikit-learn il parametro *caterogical_features* della classe *OneHotEncoder* è stato deprecato e verrà rimosso nella versione 0.22,  inoltre non è più necessario usare il LabelEncoder prima del OneHotEncoder. \n",
        "Possiamo usare la classe [ColumnTransformer](https://scikit-learn.org/stable/modules/generated/sklearn.compose.ColumnTransformer.html) che applica le trasformazioni solo a determiante colonne. Passiamo al ColumnTransformer una lista di tuple con dentro:\n",
        " - un alias per la trasformazione scelto da noi\n",
        " - La trasformazione da applicare\n",
        " - Una lista con gli indici delle colonne a cui applicare la trasformazione\n",
        " \n",
        " \n",
        "Utilizzando il parametro *remainder* possiamo definire come comportarci con le colonne che non sono state trasformate, il valore di default è \"drop\" che le rimuove, impostandolo a \"passthrough\" le aggiungeremo alla matrice senza applicare alcuna trasformazione."
      ]
    },
    {
      "metadata": {
        "id": "xybQKi529c0p",
        "colab_type": "code",
        "colab": {
          "base_uri": "https://localhost:8080/",
          "height": 103
        },
        "outputId": "90d8dd95-8e0b-4040-a70a-1edd29be7c34"
      },
      "cell_type": "code",
      "source": [
        "from sklearn.preprocessing import LabelEncoder\n",
        "from sklearn.preprocessing import OneHotEncoder\n",
        "from sklearn.compose import ColumnTransformer\n",
        "\n",
        "\n",
        "X = shirts.values \n",
        "transf = ColumnTransformer([('ohe', OneHotEncoder(), [1])], remainder=\"passthrough\")\n",
        "\n",
        "X = transf.fit_transform(X)\n",
        "\n",
        "X[:5] "
      ],
      "execution_count": 15,
      "outputs": [
        {
          "output_type": "execute_result",
          "data": {
            "text/plain": [
              "array([[1.0, 0.0, 0.0, 0, 4.99],\n",
              "       [1.0, 0.0, 0.0, 1, 19.99],\n",
              "       [1.0, 0.0, 0.0, 3, 12.49],\n",
              "       [1.0, 0.0, 0.0, 3, 14.99],\n",
              "       [1.0, 0.0, 0.0, 0, 14.99]], dtype=object)"
            ]
          },
          "metadata": {
            "tags": []
          },
          "execution_count": 15
        }
      ]
    },
    {
      "metadata": {
        "id": "unAcrOPB8oWS",
        "colab_type": "text"
      },
      "cell_type": "markdown",
      "source": [
        "### Pandas\n",
        "Se invece vogliamo eseguire il one-hot encoding su un Dataframe possiamo semplicemente usare il metodo pandas get_dummies"
      ]
    },
    {
      "metadata": {
        "id": "-INxQq8z8oWT",
        "colab_type": "code",
        "colab": {},
        "outputId": "d611333a-e022-45fe-9fd4-4b40830ac286"
      },
      "cell_type": "code",
      "source": [
        "shirts = pd.get_dummies(shirts,columns=[\"colore\"])\n",
        "shirts.head()"
      ],
      "execution_count": 0,
      "outputs": [
        {
          "output_type": "execute_result",
          "data": {
            "text/html": [
              "<div>\n",
              "<style scoped>\n",
              "    .dataframe tbody tr th:only-of-type {\n",
              "        vertical-align: middle;\n",
              "    }\n",
              "\n",
              "    .dataframe tbody tr th {\n",
              "        vertical-align: top;\n",
              "    }\n",
              "\n",
              "    .dataframe thead th {\n",
              "        text-align: right;\n",
              "    }\n",
              "</style>\n",
              "<table border=\"1\" class=\"dataframe\">\n",
              "  <thead>\n",
              "    <tr style=\"text-align: right;\">\n",
              "      <th></th>\n",
              "      <th>taglia</th>\n",
              "      <th>prezzo</th>\n",
              "      <th>size</th>\n",
              "      <th>colore_bianco</th>\n",
              "      <th>colore_rosso</th>\n",
              "      <th>colore_verde</th>\n",
              "    </tr>\n",
              "  </thead>\n",
              "  <tbody>\n",
              "    <tr>\n",
              "      <th>0</th>\n",
              "      <td>S</td>\n",
              "      <td>4.99</td>\n",
              "      <td>0</td>\n",
              "      <td>1</td>\n",
              "      <td>0</td>\n",
              "      <td>0</td>\n",
              "    </tr>\n",
              "    <tr>\n",
              "      <th>1</th>\n",
              "      <td>M</td>\n",
              "      <td>19.99</td>\n",
              "      <td>1</td>\n",
              "      <td>1</td>\n",
              "      <td>0</td>\n",
              "      <td>0</td>\n",
              "    </tr>\n",
              "    <tr>\n",
              "      <th>2</th>\n",
              "      <td>XL</td>\n",
              "      <td>12.49</td>\n",
              "      <td>3</td>\n",
              "      <td>1</td>\n",
              "      <td>0</td>\n",
              "      <td>0</td>\n",
              "    </tr>\n",
              "    <tr>\n",
              "      <th>3</th>\n",
              "      <td>XL</td>\n",
              "      <td>14.99</td>\n",
              "      <td>3</td>\n",
              "      <td>1</td>\n",
              "      <td>0</td>\n",
              "      <td>0</td>\n",
              "    </tr>\n",
              "    <tr>\n",
              "      <th>4</th>\n",
              "      <td>S</td>\n",
              "      <td>14.99</td>\n",
              "      <td>0</td>\n",
              "      <td>1</td>\n",
              "      <td>0</td>\n",
              "      <td>0</td>\n",
              "    </tr>\n",
              "  </tbody>\n",
              "</table>\n",
              "</div>"
            ],
            "text/plain": [
              "  taglia  prezzo  size  colore_bianco  colore_rosso  colore_verde\n",
              "0      S    4.99     0              1             0             0\n",
              "1      M   19.99     1              1             0             0\n",
              "2     XL   12.49     3              1             0             0\n",
              "3     XL   14.99     3              1             0             0\n",
              "4      S   14.99     0              1             0             0"
            ]
          },
          "metadata": {
            "tags": []
          },
          "execution_count": 15
        }
      ]
    }
  ]
}