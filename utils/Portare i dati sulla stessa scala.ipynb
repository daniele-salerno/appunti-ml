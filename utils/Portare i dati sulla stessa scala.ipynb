{
 "cells": [
  {
   "cell_type": "markdown",
   "metadata": {},
   "source": [
    "# Feature scaling\n",
    "Avere valori su uno stesso range numerico può velocizzare anche di molto la fase di addestramento di un modello di machine learning.<br>\n",
    "Vediamo due metodi per portare il dataset sulla stessa scala: **Normalizzazione** e **standardizzazione**.<br>\n",
    "Per provare questi due metodi utilizzeremo il Wines Dataset, un dataset di vini utilizzato per testare modelli di machine learning, selezionando solo le features inerenti alla percentuale alcolica e ai flavonoidi."
   ]
  },
  {
   "cell_type": "code",
   "execution_count": 2,
   "metadata": {},
   "outputs": [
    {
     "data": {
      "text/html": [
       "<div>\n",
       "<style scoped>\n",
       "    .dataframe tbody tr th:only-of-type {\n",
       "        vertical-align: middle;\n",
       "    }\n",
       "\n",
       "    .dataframe tbody tr th {\n",
       "        vertical-align: top;\n",
       "    }\n",
       "\n",
       "    .dataframe thead th {\n",
       "        text-align: right;\n",
       "    }\n",
       "</style>\n",
       "<table border=\"1\" class=\"dataframe\">\n",
       "  <thead>\n",
       "    <tr style=\"text-align: right;\">\n",
       "      <th></th>\n",
       "      <th>class</th>\n",
       "      <th>alcol</th>\n",
       "      <th>flavonoidi</th>\n",
       "    </tr>\n",
       "  </thead>\n",
       "  <tbody>\n",
       "    <tr>\n",
       "      <th>0</th>\n",
       "      <td>1</td>\n",
       "      <td>14.23</td>\n",
       "      <td>3.06</td>\n",
       "    </tr>\n",
       "    <tr>\n",
       "      <th>1</th>\n",
       "      <td>1</td>\n",
       "      <td>13.20</td>\n",
       "      <td>2.76</td>\n",
       "    </tr>\n",
       "    <tr>\n",
       "      <th>2</th>\n",
       "      <td>1</td>\n",
       "      <td>13.16</td>\n",
       "      <td>3.24</td>\n",
       "    </tr>\n",
       "    <tr>\n",
       "      <th>3</th>\n",
       "      <td>1</td>\n",
       "      <td>14.37</td>\n",
       "      <td>3.49</td>\n",
       "    </tr>\n",
       "    <tr>\n",
       "      <th>4</th>\n",
       "      <td>1</td>\n",
       "      <td>13.24</td>\n",
       "      <td>2.69</td>\n",
       "    </tr>\n",
       "  </tbody>\n",
       "</table>\n",
       "</div>"
      ],
      "text/plain": [
       "   class  alcol  flavonoidi\n",
       "0      1  14.23        3.06\n",
       "1      1  13.20        2.76\n",
       "2      1  13.16        3.24\n",
       "3      1  14.37        3.49\n",
       "4      1  13.24        2.69"
      ]
     },
     "execution_count": 2,
     "metadata": {},
     "output_type": "execute_result"
    }
   ],
   "source": [
    "import pandas as pd\n",
    "\n",
    "wines = pd.read_csv(\"https://archive.ics.uci.edu/ml/machine-learning-databases/wine/wine.data\", names=['class','alcol','flavonoidi'], \n",
    "                    usecols=[0,1,7])\n",
    "wines.head()"
   ]
  },
  {
   "cell_type": "markdown",
   "metadata": {},
   "source": [
    "**NOTA BENE**<br>\n",
    "Dalla versione 0.19.2 di Pandas è possibile caricare un DataFrame direttamente da un URL remoto come fatto nell'esempio qui sopra."
   ]
  },
  {
   "cell_type": "markdown",
   "metadata": {},
   "source": [
    "## Normalizzazione\n",
    "La normalizzazione porta il range di valori in una scala compresa tra 0 ed uno, si esegue applicando ad ogni elemento da normalizzare la seguente formula.<br>\n",
    "$$x^{(i)}_{norm}= \\frac{x^{i}-x_{min}}{x_{max}-x_{min}}$$\n",
    "dove $x$ è un vettore che corrisponde alla colonna da normalizzare."
   ]
  },
  {
   "cell_type": "markdown",
   "metadata": {},
   "source": [
    "### Numpy e Scikit-learn"
   ]
  },
  {
   "cell_type": "markdown",
   "metadata": {},
   "source": [
    "Per normalizzare un dataset presentato come un'array numpy possiamo utilizzare la classe MinMaxScaler di Scikit-learn"
   ]
  },
  {
   "cell_type": "code",
   "execution_count": 3,
   "metadata": {},
   "outputs": [
    {
     "data": {
      "text/plain": [
       "array([[0.84210526, 0.57383966],\n",
       "       [0.57105263, 0.51054852],\n",
       "       [0.56052632, 0.61181435],\n",
       "       [0.87894737, 0.66455696],\n",
       "       [0.58157895, 0.49578059]])"
      ]
     },
     "execution_count": 3,
     "metadata": {},
     "output_type": "execute_result"
    }
   ],
   "source": [
    "from sklearn.preprocessing import MinMaxScaler\n",
    "\n",
    "mms = MinMaxScaler()\n",
    "X = wines.drop(\"class\",axis=1).values # la feature target presenta delle classi e non va normalizzata, quindi la rimuoviao dall'array\n",
    "X_norm = mms.fit_transform(X)\n",
    "X_norm[:5]"
   ]
  },
  {
   "cell_type": "markdown",
   "metadata": {},
   "source": [
    "### Pandas\n",
    "Pandas non ha un metododo per la normalizzazione, ma possiamo eseguirla semplicemente implementando l'algoritmo."
   ]
  },
  {
   "cell_type": "code",
   "execution_count": 4,
   "metadata": {},
   "outputs": [
    {
     "data": {
      "text/html": [
       "<div>\n",
       "<style scoped>\n",
       "    .dataframe tbody tr th:only-of-type {\n",
       "        vertical-align: middle;\n",
       "    }\n",
       "\n",
       "    .dataframe tbody tr th {\n",
       "        vertical-align: top;\n",
       "    }\n",
       "\n",
       "    .dataframe thead th {\n",
       "        text-align: right;\n",
       "    }\n",
       "</style>\n",
       "<table border=\"1\" class=\"dataframe\">\n",
       "  <thead>\n",
       "    <tr style=\"text-align: right;\">\n",
       "      <th></th>\n",
       "      <th>class</th>\n",
       "      <th>alcol</th>\n",
       "      <th>flavonoidi</th>\n",
       "    </tr>\n",
       "  </thead>\n",
       "  <tbody>\n",
       "    <tr>\n",
       "      <th>0</th>\n",
       "      <td>1</td>\n",
       "      <td>0.842105</td>\n",
       "      <td>0.573840</td>\n",
       "    </tr>\n",
       "    <tr>\n",
       "      <th>1</th>\n",
       "      <td>1</td>\n",
       "      <td>0.571053</td>\n",
       "      <td>0.510549</td>\n",
       "    </tr>\n",
       "    <tr>\n",
       "      <th>2</th>\n",
       "      <td>1</td>\n",
       "      <td>0.560526</td>\n",
       "      <td>0.611814</td>\n",
       "    </tr>\n",
       "    <tr>\n",
       "      <th>3</th>\n",
       "      <td>1</td>\n",
       "      <td>0.878947</td>\n",
       "      <td>0.664557</td>\n",
       "    </tr>\n",
       "    <tr>\n",
       "      <th>4</th>\n",
       "      <td>1</td>\n",
       "      <td>0.581579</td>\n",
       "      <td>0.495781</td>\n",
       "    </tr>\n",
       "  </tbody>\n",
       "</table>\n",
       "</div>"
      ],
      "text/plain": [
       "   class     alcol  flavonoidi\n",
       "0      1  0.842105    0.573840\n",
       "1      1  0.571053    0.510549\n",
       "2      1  0.560526    0.611814\n",
       "3      1  0.878947    0.664557\n",
       "4      1  0.581579    0.495781"
      ]
     },
     "execution_count": 4,
     "metadata": {},
     "output_type": "execute_result"
    }
   ],
   "source": [
    "wines_norm = wines.copy()\n",
    "\n",
    "features = [\"alcol\",\"flavonoidi\"] # colonne del dataframe da normalizzare\n",
    "to_norm = wines_norm[features]\n",
    "wines_norm[features] = (to_norm-to_norm.min())/(to_norm.max()-to_norm.min()) #implementiamo l'algoritmo della normalizzazione\n",
    "                                                                             #e lo eseguiamo su tutte le colonne da normalizzare\n",
    "wines_norm.head()"
   ]
  },
  {
   "cell_type": "markdown",
   "metadata": {},
   "source": [
    "## Standardizzazione\n",
    "La standardizzazione crea una distribuzione normale, ovvero una distribuzione con media 0 e deviazione standard 1, quindi il range di valori sarà compreso tra -1 e 1.<br>\n",
    "La standardizzazione si esegue applicando la seguente formula\n",
    "<br>\n",
    "$$x^{(i)}_{std}= \\frac{x^{i}-x_{mean}}{x_{sd}}$$\n",
    "<br>\n",
    "dove $x$ è un vettore che corrisponde alla colonna da standardizzare, $x_{mean}$ è il valore medio nella colonna e $x_{sd}$ la deviazione standard."
   ]
  },
  {
   "cell_type": "markdown",
   "metadata": {},
   "source": [
    "### Numpy e Scikit-learn\n",
    "Per standardizzare un dataset sotto forma di array numpy possiamo utilizzare la classe StandardScaler di Scikit-learn"
   ]
  },
  {
   "cell_type": "code",
   "execution_count": 22,
   "metadata": {},
   "outputs": [
    {
     "data": {
      "text/plain": [
       "array([[1.51861254, 1.03481896],\n",
       "       [0.24628963, 0.73362894],\n",
       "       [0.19687903, 1.21553297],\n",
       "       [1.69154964, 1.46652465],\n",
       "       [0.29570023, 0.66335127]])"
      ]
     },
     "execution_count": 22,
     "metadata": {},
     "output_type": "execute_result"
    }
   ],
   "source": [
    "from sklearn.preprocessing import StandardScaler\n",
    "\n",
    "ss = StandardScaler()\n",
    "X = wines.drop(\"class\",axis=1).values\n",
    "X_std = ss.fit_transform(X)\n",
    "X_std[:5]"
   ]
  },
  {
   "cell_type": "markdown",
   "metadata": {},
   "source": [
    "### Pandas\n",
    "Pandas non ha un metododo per la standardizzazione, ma possiamo eseguirla semplicemente implementando l'algoritmo."
   ]
  },
  {
   "cell_type": "code",
   "execution_count": 23,
   "metadata": {},
   "outputs": [
    {
     "data": {
      "text/html": [
       "<div>\n",
       "<style scoped>\n",
       "    .dataframe tbody tr th:only-of-type {\n",
       "        vertical-align: middle;\n",
       "    }\n",
       "\n",
       "    .dataframe tbody tr th {\n",
       "        vertical-align: top;\n",
       "    }\n",
       "\n",
       "    .dataframe thead th {\n",
       "        text-align: right;\n",
       "    }\n",
       "</style>\n",
       "<table border=\"1\" class=\"dataframe\">\n",
       "  <thead>\n",
       "    <tr style=\"text-align: right;\">\n",
       "      <th></th>\n",
       "      <th>class</th>\n",
       "      <th>alcol</th>\n",
       "      <th>flavonoidi</th>\n",
       "    </tr>\n",
       "  </thead>\n",
       "  <tbody>\n",
       "    <tr>\n",
       "      <th>0</th>\n",
       "      <td>1</td>\n",
       "      <td>1.514341</td>\n",
       "      <td>1.031908</td>\n",
       "    </tr>\n",
       "    <tr>\n",
       "      <th>1</th>\n",
       "      <td>1</td>\n",
       "      <td>0.245597</td>\n",
       "      <td>0.731565</td>\n",
       "    </tr>\n",
       "    <tr>\n",
       "      <th>2</th>\n",
       "      <td>1</td>\n",
       "      <td>0.196325</td>\n",
       "      <td>1.212114</td>\n",
       "    </tr>\n",
       "    <tr>\n",
       "      <th>3</th>\n",
       "      <td>1</td>\n",
       "      <td>1.686791</td>\n",
       "      <td>1.462399</td>\n",
       "    </tr>\n",
       "    <tr>\n",
       "      <th>4</th>\n",
       "      <td>1</td>\n",
       "      <td>0.294868</td>\n",
       "      <td>0.661485</td>\n",
       "    </tr>\n",
       "  </tbody>\n",
       "</table>\n",
       "</div>"
      ],
      "text/plain": [
       "   class     alcol  flavonoidi\n",
       "0      1  1.514341    1.031908\n",
       "1      1  0.245597    0.731565\n",
       "2      1  0.196325    1.212114\n",
       "3      1  1.686791    1.462399\n",
       "4      1  0.294868    0.661485"
      ]
     },
     "execution_count": 23,
     "metadata": {},
     "output_type": "execute_result"
    }
   ],
   "source": [
    "wines_std = wines.copy()\n",
    "\n",
    "features = [\"alcol\",\"flavonoidi\"]\n",
    "to_std = wines_std[features]\n",
    "wines_std[features] = (to_std - to_std.mean())/to_std.std()\n",
    "wines_std[:5]"
   ]
  },
  {
   "cell_type": "markdown",
   "metadata": {},
   "source": [
    "**NOTA BENE**\n",
    "Se osservi attentamente la standardizzazione eseguita con Pandas ha tornato un risultato leggermente diverso rispetto a quella eseguita con scikit-learn, questo accade perchè scikit-learn utilizza internamente la funzione std di Numpy, che calcola la deviazione standard in maniera diversa rispetto al metodo std del DataFrame.<br>\n",
    "Per approfondire [vedi qui](https://stackoverflow.com/a/44220374)."
   ]
  }
 ],
 "metadata": {
  "kernelspec": {
   "display_name": "Python 3",
   "language": "python",
   "name": "python3"
  },
  "language_info": {
   "codemirror_mode": {
    "name": "ipython",
    "version": 3
   },
   "file_extension": ".py",
   "mimetype": "text/x-python",
   "name": "python",
   "nbconvert_exporter": "python",
   "pygments_lexer": "ipython3",
   "version": "3.6.4"
  }
 },
 "nbformat": 4,
 "nbformat_minor": 2
}
